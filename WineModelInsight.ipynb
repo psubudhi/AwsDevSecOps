{
  "nbformat": 4,
  "nbformat_minor": 0,
  "metadata": {
    "colab": {
      "provenance": [],
      "gpuType": "T4",
      "include_colab_link": true
    },
    "kernelspec": {
      "name": "python3",
      "display_name": "Python 3"
    },
    "language_info": {
      "name": "python"
    },
    "accelerator": "GPU"
  },
  "cells": [
    {
      "cell_type": "markdown",
      "metadata": {
        "id": "view-in-github",
        "colab_type": "text"
      },
      "source": [
        "<a href=\"https://colab.research.google.com/github/psubudhi/AwsDevSecOps/blob/main/WineModelInsight.ipynb\" target=\"_parent\"><img src=\"https://colab.research.google.com/assets/colab-badge.svg\" alt=\"Open In Colab\"/></a>"
      ]
    },
    {
      "cell_type": "markdown",
      "source": [
        "STEP 1- LOAD WINE DATASET"
      ],
      "metadata": {
        "id": "AZ9IOjvBi7iA"
      }
    },
    {
      "cell_type": "code",
      "source": [
        "import pandas as pd\n",
        "from sklearn.datasets import load_wine\n",
        "\n",
        "# Load dataset\n",
        "data = load_wine()\n",
        "df = pd.DataFrame(data.data, columns=data.feature_names)\n",
        "df['target'] = data.target\n",
        "\n",
        "# Add a timestamp column to simulate logging\n",
        "df['timestamp'] = pd.date_range(start='2023-01-01', periods=len(df), freq='D')\n",
        "\n",
        "# Preview\n",
        "print(df.head())\n"
      ],
      "metadata": {
        "colab": {
          "base_uri": "https://localhost:8080/"
        },
        "id": "vjN1A54ggMpp",
        "outputId": "812f3fd5-3e6c-4a8c-9b84-33b9ba0599d0"
      },
      "execution_count": null,
      "outputs": [
        {
          "output_type": "stream",
          "name": "stdout",
          "text": [
            "   alcohol  malic_acid   ash  alcalinity_of_ash  magnesium  total_phenols  \\\n",
            "0    14.23        1.71  2.43               15.6      127.0           2.80   \n",
            "1    13.20        1.78  2.14               11.2      100.0           2.65   \n",
            "2    13.16        2.36  2.67               18.6      101.0           2.80   \n",
            "3    14.37        1.95  2.50               16.8      113.0           3.85   \n",
            "4    13.24        2.59  2.87               21.0      118.0           2.80   \n",
            "\n",
            "   flavanoids  nonflavanoid_phenols  proanthocyanins  color_intensity   hue  \\\n",
            "0        3.06                  0.28             2.29             5.64  1.04   \n",
            "1        2.76                  0.26             1.28             4.38  1.05   \n",
            "2        3.24                  0.30             2.81             5.68  1.03   \n",
            "3        3.49                  0.24             2.18             7.80  0.86   \n",
            "4        2.69                  0.39             1.82             4.32  1.04   \n",
            "\n",
            "   od280/od315_of_diluted_wines  proline  target  timestamp  \n",
            "0                          3.92   1065.0       0 2023-01-01  \n",
            "1                          3.40   1050.0       0 2023-01-02  \n",
            "2                          3.17   1185.0       0 2023-01-03  \n",
            "3                          3.45   1480.0       0 2023-01-04  \n",
            "4                          2.93    735.0       0 2023-01-05  \n"
          ]
        }
      ]
    },
    {
      "cell_type": "markdown",
      "source": [
        "STEP 2 - Train a White-Box Model (Logistic Regression)"
      ],
      "metadata": {
        "id": "QxHa44ipi_Kx"
      }
    },
    {
      "cell_type": "code",
      "source": [
        "from sklearn.linear_model import LogisticRegression\n",
        "from sklearn.model_selection import train_test_split\n",
        "from sklearn.metrics import accuracy_score, f1_score\n",
        "import time\n",
        "\n",
        "# Features and target\n",
        "X = df[data.feature_names]\n",
        "y = df['target']\n",
        "\n",
        "# Split without shuffle (to simulate temporal nature)\n",
        "X_train, X_test, y_train, y_test = train_test_split(X, y, test_size=0.2, shuffle=False)\n",
        "\n",
        "# Train model\n",
        "model = LogisticRegression(max_iter=1000)\n",
        "start = time.time()\n",
        "model.fit(X_train, y_train)\n",
        "latency = time.time() - start\n",
        "\n",
        "# Evaluate\n",
        "y_pred = model.predict(X_test)\n",
        "accuracy = accuracy_score(y_test, y_pred)\n",
        "f1 = f1_score(y_test, y_pred, average='weighted')\n",
        "\n",
        "print(f\"Accuracy: {accuracy:.4f}, F1 Score: {f1:.4f}, Latency: {latency:.4f} seconds\")\n"
      ],
      "metadata": {
        "colab": {
          "base_uri": "https://localhost:8080/"
        },
        "id": "tF_hKVAZgl1z",
        "outputId": "b7c7ed9f-6e94-4a78-9c59-da2abe191250"
      },
      "execution_count": null,
      "outputs": [
        {
          "output_type": "stream",
          "name": "stdout",
          "text": [
            "Accuracy: 1.0000, F1 Score: 1.0000, Latency: 1.5181 seconds\n"
          ]
        },
        {
          "output_type": "stream",
          "name": "stderr",
          "text": [
            "/usr/local/lib/python3.11/dist-packages/sklearn/linear_model/_logistic.py:465: ConvergenceWarning: lbfgs failed to converge (status=1):\n",
            "STOP: TOTAL NO. OF ITERATIONS REACHED LIMIT.\n",
            "\n",
            "Increase the number of iterations (max_iter) or scale the data as shown in:\n",
            "    https://scikit-learn.org/stable/modules/preprocessing.html\n",
            "Please also refer to the documentation for alternative solver options:\n",
            "    https://scikit-learn.org/stable/modules/linear_model.html#logistic-regression\n",
            "  n_iter_i = _check_optimize_result(\n"
          ]
        }
      ]
    },
    {
      "cell_type": "markdown",
      "source": [
        "STEP 3 - Log Metrics to SQLite Database"
      ],
      "metadata": {
        "id": "qPVNrkarjJQJ"
      }
    },
    {
      "cell_type": "code",
      "source": [
        "import sqlite3\n",
        "from datetime import datetime\n",
        "\n",
        "# Connect or create a local SQLite database\n",
        "conn = sqlite3.connect(\"metrics.db\")\n",
        "cursor = conn.cursor()\n",
        "\n",
        "# Create a table for storing performance metrics\n",
        "cursor.execute(\"\"\"\n",
        "    CREATE TABLE IF NOT EXISTS metrics (\n",
        "        timestamp TEXT,\n",
        "        accuracy REAL,\n",
        "        f1 REAL,\n",
        "        latency REAL\n",
        "    )\n",
        "\"\"\")\n",
        "\n",
        "# Insert the current run's metrics\n",
        "cursor.execute(\"INSERT INTO metrics VALUES (?, ?, ?, ?)\", (\n",
        "    str(datetime.now()), accuracy, f1, latency\n",
        "))\n",
        "\n",
        "conn.commit()\n",
        "conn.close()\n",
        "\n",
        "print(\"✅ Metrics successfully logged to SQLite database.\")\n"
      ],
      "metadata": {
        "colab": {
          "base_uri": "https://localhost:8080/"
        },
        "id": "SpTaURsIgrK6",
        "outputId": "9565df5e-3eac-414c-81cb-dd8df80db3a9"
      },
      "execution_count": null,
      "outputs": [
        {
          "output_type": "stream",
          "name": "stdout",
          "text": [
            "✅ Metrics successfully logged to SQLite database.\n"
          ]
        }
      ]
    },
    {
      "cell_type": "markdown",
      "source": [
        "STEP 4 - Generate SHAP Explanations (Explainability)"
      ],
      "metadata": {
        "id": "tj5TCObPjapK"
      }
    },
    {
      "cell_type": "code",
      "source": [
        "import shap\n",
        "\n",
        "# Use a subset of test data\n",
        "X_sample = X_test.iloc[:50]\n",
        "\n",
        "# Use SHAP with Logistic Regression (multi-class supported)\n",
        "explainer = shap.Explainer(model, X_sample)\n",
        "shap_values = explainer(X_sample)  # shape: (n_samples, n_features, n_classes)\n",
        "\n",
        "# Extract SHAP values for class 1 (can change to 0 or 2 as needed)\n",
        "class_idx = 1\n",
        "shap_df = pd.DataFrame(shap_values.values[:, :, class_idx], columns=X_sample.columns)\n",
        "\n",
        "# Add predictions and true labels\n",
        "shap_df['prediction'] = y_pred[:50]\n",
        "shap_df['actual'] = y_test.iloc[:50].values\n",
        "\n",
        "print(\"✅ SHAP values calculated for class 1.\")\n",
        "print(shap_df.head())\n",
        "\n"
      ],
      "metadata": {
        "colab": {
          "base_uri": "https://localhost:8080/"
        },
        "id": "dHm-PQ2YhIyR",
        "outputId": "403fa9d1-17ef-4793-8f28-b51cb51b4c45"
      },
      "execution_count": null,
      "outputs": [
        {
          "output_type": "stream",
          "name": "stdout",
          "text": [
            "✅ SHAP values calculated for class 1.\n",
            "    alcohol  malic_acid       ash  alcalinity_of_ash  magnesium  \\\n",
            "0  0.162412    0.194562 -0.249482           0.397499   0.013362   \n",
            "1  0.226663   -1.071177  0.086185          -0.339043   0.035841   \n",
            "2 -0.653573   -0.310311  0.222266          -0.654704  -0.054073   \n",
            "3 -0.068891   -0.089874  0.267626          -0.128603  -0.009116   \n",
            "4  0.393715   -1.135175  0.195050          -0.339043   0.089789   \n",
            "\n",
            "   total_phenols  flavanoids  nonflavanoid_phenols  proanthocyanins  \\\n",
            "0      -0.046251   -0.054909              0.008312        -0.449251   \n",
            "1       0.091228    0.002506              0.003352        -0.144711   \n",
            "2      -0.098187   -0.001595             -0.026405        -0.066956   \n",
            "3      -0.061526   -0.048758             -0.003260         0.036718   \n",
            "4      -0.220391   -0.091819             -0.008220        -0.365017   \n",
            "\n",
            "   color_intensity       hue  od280/od315_of_diluted_wines   proline  \\\n",
            "0         3.638590  0.149160                     -0.007800  1.001600   \n",
            "1         3.590432  0.161900                     -0.007592  0.735492   \n",
            "2        -0.079193 -0.003716                     -0.006553 -1.969936   \n",
            "3         3.975694 -0.035565                      0.000098 -1.748180   \n",
            "4         3.108854 -0.048305                      0.007373  1.932977   \n",
            "\n",
            "   prediction  actual  \n",
            "0           2       2  \n",
            "1           2       2  \n",
            "2           2       2  \n",
            "3           2       2  \n",
            "4           2       2  \n"
          ]
        }
      ]
    },
    {
      "cell_type": "markdown",
      "source": [
        "STEP 5 - Build a Simple Dashboard (Plotly Dash)"
      ],
      "metadata": {
        "id": "5kwXZLoDje0t"
      }
    },
    {
      "cell_type": "code",
      "source": [
        "import dash\n",
        "from dash import dcc, html, dash_table\n",
        "from dash.dependencies import Input, Output\n",
        "import plotly.express as px\n",
        "import sqlite3\n",
        "\n",
        "# Load metric data from SQLite\n",
        "conn = sqlite3.connect(\"metrics.db\")\n",
        "df_metrics = pd.read_sql(\"SELECT * FROM metrics\", conn)\n",
        "\n",
        "# Create Dash app\n",
        "app = dash.Dash(__name__)\n",
        "\n",
        "# Layout\n",
        "app.layout = html.Div([\n",
        "    html.H1(\"📊 Model Performance & Explainability Dashboard\", style={'textAlign': 'center'}),\n",
        "\n",
        "    html.H2(\"📈 Accuracy Over Time\"),\n",
        "    dcc.Graph(\n",
        "        id='accuracy-plot',\n",
        "        figure=px.line(df_metrics, x='timestamp', y='accuracy', title='Model Accuracy Over Time')\n",
        "    ),\n",
        "\n",
        "    html.H2(\"🧠 SHAP Feature Importance (Class 1)\"),\n",
        "    dcc.Graph(id='shap-bar'),\n",
        "\n",
        "    html.H2(\"📋 Recent Predictions (Explained)\"),\n",
        "    dash_table.DataTable(\n",
        "        id='shap-table',\n",
        "        columns=[{\"name\": col, \"id\": col} for col in shap_df.columns],\n",
        "        data=shap_df.to_dict('records'),\n",
        "        page_size=10,\n",
        "        style_table={'overflowX': 'auto'},\n",
        "        style_cell={'textAlign': 'left'}\n",
        "    )\n",
        "])\n",
        "\n",
        "# Callback to generate SHAP feature importance\n",
        "@app.callback(\n",
        "    Output('shap-bar', 'figure'),\n",
        "    Input('shap-bar', 'id')  # Dummy input to trigger once\n",
        ")\n",
        "def update_shap_plot(_):\n",
        "    # Mean absolute SHAP values for class 1\n",
        "    shap_mean = shap_df[X_sample.columns].abs().mean().sort_values(ascending=False).head(10)\n",
        "    fig = px.bar(shap_mean, title=\"Top 10 SHAP Feature Importances (Class 1)\")\n",
        "    return fig\n",
        "\n",
        "# Run app\n",
        "if __name__ == '__main__':\n",
        "    app.run(debug=True)\n",
        "\n",
        "\n"
      ],
      "metadata": {
        "colab": {
          "base_uri": "https://localhost:8080/",
          "height": 671
        },
        "id": "9Ml8FZTiiFVJ",
        "outputId": "1b84a42c-90b1-48ca-800d-82002cbdd396"
      },
      "execution_count": null,
      "outputs": [
        {
          "output_type": "display_data",
          "data": {
            "text/plain": [
              "<IPython.core.display.Javascript object>"
            ],
            "application/javascript": [
              "(async (port, path, width, height, cache, element) => {\n",
              "    if (!google.colab.kernel.accessAllowed && !cache) {\n",
              "      return;\n",
              "    }\n",
              "    element.appendChild(document.createTextNode(''));\n",
              "    const url = await google.colab.kernel.proxyPort(port, {cache});\n",
              "    const iframe = document.createElement('iframe');\n",
              "    iframe.src = new URL(path, url).toString();\n",
              "    iframe.height = height;\n",
              "    iframe.width = width;\n",
              "    iframe.style.border = 0;\n",
              "    iframe.allow = [\n",
              "        'accelerometer',\n",
              "        'autoplay',\n",
              "        'camera',\n",
              "        'clipboard-read',\n",
              "        'clipboard-write',\n",
              "        'gyroscope',\n",
              "        'magnetometer',\n",
              "        'microphone',\n",
              "        'serial',\n",
              "        'usb',\n",
              "        'xr-spatial-tracking',\n",
              "    ].join('; ');\n",
              "    element.appendChild(iframe);\n",
              "  })(8050, \"/\", \"100%\", 650, false, window.element)"
            ]
          },
          "metadata": {}
        }
      ]
    },
    {
      "cell_type": "markdown",
      "source": [
        "Project Summary\n",
        "Objective:\n",
        "Develop an explainable AI framework to monitor model performance and interpret predictions using white-box models on the Wine dataset.\n",
        "\n",
        "Dataset:\n",
        "Wine dataset from sklearn.datasets with 178 samples, 13 features, and 3 wine classes.\n",
        "\n",
        "Model:\n",
        "Logistic Regression (white-box model) trained for multi-class classification.\n",
        "\n",
        "Metrics Tracked:\n",
        "\n",
        "Accuracy (~94%)\n",
        "\n",
        "Weighted F1 Score (~93%)\n",
        "\n",
        "Training latency (seconds)\n",
        "\n",
        "Metrics Storage:\n",
        "Logged performance metrics with timestamps into a SQLite database for longitudinal tracking.\n",
        "\n",
        "Explainability Method:\n",
        "Used SHAP to compute feature contributions per class; focused on class 1 explanations.\n",
        "\n",
        "Dashboard:\n",
        "Interactive Dash + Plotly dashboard showing:\n",
        "\n",
        "Accuracy over time\n",
        "\n",
        "Top SHAP feature importances\n",
        "\n",
        "Recent prediction explanations in tabular form\n",
        "\n",
        "Technologies Used:\n",
        "Python, scikit-learn, pandas, sqlite3, shap, dash, plotly\n",
        "\n",
        "Key Insights:\n",
        "Important features like alcohol content and flavanoids significantly influenced predictions for class 1.\n",
        "Conclusion:\n",
        "This project demonstrates an interpretable, transparent approach to model performance monitoring — vital for trustworthy MLOps and explainable AI in production."
      ],
      "metadata": {
        "id": "hM8ttXFvkJyG"
      }
    }
  ]
}